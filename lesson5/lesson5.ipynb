{
 "cells": [
  {
   "cell_type": "code",
   "execution_count": 1,
   "metadata": {},
   "outputs": [
    {
     "name": "stdout",
     "output_type": "stream",
     "text": [
      "輸入格式錯誤\n",
      "輸入格式錯誤\n",
      "身高=0,體重=0\n"
     ]
    },
    {
     "ename": "ZeroDivisionError",
     "evalue": "float division by zero",
     "output_type": "error",
     "traceback": [
      "\u001b[0;31m---------------------------------------------------------------------------\u001b[0m",
      "\u001b[0;31mZeroDivisionError\u001b[0m                         Traceback (most recent call last)",
      "Cell \u001b[0;32mIn[1], line 23\u001b[0m\n\u001b[1;32m     21\u001b[0m \u001b[38;5;28mprint\u001b[39m(\u001b[38;5;124mf\u001b[39m\u001b[38;5;124m'\u001b[39m\u001b[38;5;124m身高=\u001b[39m\u001b[38;5;132;01m{\u001b[39;00mcm\u001b[38;5;132;01m}\u001b[39;00m\u001b[38;5;124m,體重=\u001b[39m\u001b[38;5;132;01m{\u001b[39;00mkg\u001b[38;5;132;01m}\u001b[39;00m\u001b[38;5;124m'\u001b[39m)\n\u001b[1;32m     22\u001b[0m cm\u001b[38;5;241m=\u001b[39m(cm\u001b[38;5;241m/\u001b[39m\u001b[38;5;241m100\u001b[39m)\u001b[38;5;241m*\u001b[39m(cm\u001b[38;5;241m/\u001b[39m\u001b[38;5;241m100\u001b[39m)\n\u001b[0;32m---> 23\u001b[0m BMI\u001b[38;5;241m=\u001b[39m\u001b[43mkg\u001b[49m\u001b[38;5;241;43m/\u001b[39;49m\u001b[43mcm\u001b[49m\n\u001b[1;32m     24\u001b[0m \u001b[38;5;28mprint\u001b[39m(\u001b[38;5;124mf\u001b[39m\u001b[38;5;124m'\u001b[39m\u001b[38;5;124mBMI=\u001b[39m\u001b[38;5;132;01m{\u001b[39;00mBMI\u001b[38;5;132;01m}\u001b[39;00m\u001b[38;5;124m'\u001b[39m)\n\u001b[1;32m     25\u001b[0m \u001b[38;5;28;01mif\u001b[39;00m BMI \u001b[38;5;241m>\u001b[39m\u001b[38;5;241m=\u001b[39m\u001b[38;5;241m35\u001b[39m:\n",
      "\u001b[0;31mZeroDivisionError\u001b[0m: float division by zero"
     ]
    }
   ],
   "source": [
    "kg=0  #清除變數\n",
    "cm=0  #清除變數\n",
    "try:    \n",
    "    cm = int(input(\"請輸入身高(公分):\"))\n",
    "    if cm > 300:\n",
    "            raise Exception(\"超過300公分\")\n",
    "except ValueError:\n",
    "    print('輸入格式錯誤')\n",
    "except Exception as e:\n",
    "    print(f'輸入錯誤{cm}')\n",
    "\n",
    "try:    \n",
    "    kg = int(input(\"請輸入體重(公斤):\"))\n",
    "    if kg > 300:\n",
    "          raise Exception(\"超過300公分\")\n",
    "except ValueError:\n",
    "    print('輸入格式錯誤')\n",
    "except Exception as e:\n",
    "    print(f'輸入錯誤{kg}')\n",
    "\n",
    "print(f'身高={cm},體重={kg}')\n",
    "cm=(cm/100)*(cm/100)\n",
    "BMI=kg/cm\n",
    "print(f'BMI={BMI}')\n",
    "if BMI >=35:\n",
    "    print(\"重度肥胖：BMI≧35\")\n",
    "elif BMI >=30:\n",
    "    print(\"中度肥胖：30≦BMI\")\n",
    "elif BMI >=27:\n",
    "    print(\"輕度肥胖：27≦BMI\")\n",
    "elif BMI >=24:\n",
    "    print(\"過重\")\n",
    "elif BMI >=18.5:\n",
    "    print(\"正常範圍\")\n",
    "else:\n",
    "    print(\"體重過輕\")\n",
    "print('程式結束')"
   ]
  },
  {
   "cell_type": "code",
   "execution_count": null,
   "metadata": {},
   "outputs": [],
   "source": [
    "total = 0\n",
    "total += 1\n",
    "total += 2\n",
    "total += 3\n",
    "total += 4\n",
    "total += 5\n",
    "total += 6\n",
    "total += 7\n",
    "total += 8\n",
    "total += 9\n",
    "total += 10\n",
    "total"
   ]
  },
  {
   "cell_type": "code",
   "execution_count": 4,
   "metadata": {},
   "outputs": [
    {
     "data": {
      "text/plain": [
       "5050"
      ]
     },
     "execution_count": 4,
     "metadata": {},
     "output_type": "execute_result"
    }
   ],
   "source": [
    "total = 0\n",
    "for i in range(1,101):\n",
    "    total += i\n",
    "\n",
    "total"
   ]
  },
  {
   "cell_type": "code",
   "execution_count": 3,
   "metadata": {},
   "outputs": [
    {
     "name": "stdout",
     "output_type": "stream",
     "text": [
      "10\n",
      "20\n",
      "30\n",
      "40\n",
      "50\n",
      "60\n",
      "70\n",
      "80\n",
      "90\n",
      "100\n"
     ]
    }
   ],
   "source": [
    "for i in range(10,101,10):\n",
    "    print(i)"
   ]
  },
  {
   "cell_type": "code",
   "execution_count": 2,
   "metadata": {},
   "outputs": [
    {
     "name": "stdout",
     "output_type": "stream",
     "text": [
      "r\n",
      "o\n",
      "b\n",
      "e\n",
      "r\n",
      "t\n"
     ]
    }
   ],
   "source": [
    "for i in 'robert':\n",
    "    print(i)"
   ]
  },
  {
   "cell_type": "code",
   "execution_count": 3,
   "metadata": {},
   "outputs": [
    {
     "name": "stdout",
     "output_type": "stream",
     "text": [
      "身高=155,體重=40\n",
      "BMI=16.649323621227886\n",
      "體重過輕\n",
      "身高=99,體重=9\n",
      "BMI=9.18273645546373\n",
      "體重過輕\n",
      "程式結束\n"
     ]
    }
   ],
   "source": []
  },
  {
   "cell_type": "code",
   "execution_count": 5,
   "metadata": {},
   "outputs": [
    {
     "name": "stdout",
     "output_type": "stream",
     "text": [
      "身高=0,體重=0\n"
     ]
    },
    {
     "ename": "ZeroDivisionError",
     "evalue": "float division by zero",
     "output_type": "error",
     "traceback": [
      "\u001b[0;31m---------------------------------------------------------------------------\u001b[0m",
      "\u001b[0;31mZeroDivisionError\u001b[0m                         Traceback (most recent call last)",
      "Cell \u001b[0;32mIn[5], line 34\u001b[0m\n\u001b[1;32m     32\u001b[0m \u001b[38;5;28mprint\u001b[39m(\u001b[38;5;124mf\u001b[39m\u001b[38;5;124m'\u001b[39m\u001b[38;5;124m身高=\u001b[39m\u001b[38;5;132;01m{\u001b[39;00mcm\u001b[38;5;132;01m}\u001b[39;00m\u001b[38;5;124m,體重=\u001b[39m\u001b[38;5;132;01m{\u001b[39;00mkg\u001b[38;5;132;01m}\u001b[39;00m\u001b[38;5;124m'\u001b[39m)\n\u001b[1;32m     33\u001b[0m cm\u001b[38;5;241m=\u001b[39m(cm\u001b[38;5;241m/\u001b[39m\u001b[38;5;241m100\u001b[39m)\u001b[38;5;241m*\u001b[39m(cm\u001b[38;5;241m/\u001b[39m\u001b[38;5;241m100\u001b[39m)\n\u001b[0;32m---> 34\u001b[0m BMI\u001b[38;5;241m=\u001b[39m\u001b[43mkg\u001b[49m\u001b[38;5;241;43m/\u001b[39;49m\u001b[43mcm\u001b[49m\n\u001b[1;32m     35\u001b[0m \u001b[38;5;28mprint\u001b[39m(\u001b[38;5;124mf\u001b[39m\u001b[38;5;124m'\u001b[39m\u001b[38;5;124mBMI=\u001b[39m\u001b[38;5;132;01m{\u001b[39;00mBMI\u001b[38;5;132;01m}\u001b[39;00m\u001b[38;5;124m'\u001b[39m)\n\u001b[1;32m     36\u001b[0m \u001b[38;5;28;01mif\u001b[39;00m BMI \u001b[38;5;241m>\u001b[39m\u001b[38;5;241m=\u001b[39m\u001b[38;5;241m35\u001b[39m:\n",
      "\u001b[0;31mZeroDivisionError\u001b[0m: float division by zero"
     ]
    }
   ],
   "source": [
    "def input_data():\n",
    "    while True:\n",
    "        try:    \n",
    "            cm = int(input(\"請輸入身高(公分):\"))\n",
    "            if cm > 300:\n",
    "                    raise Exception(\"超過300公分\")\n",
    "            break\n",
    "        except ValueError:\n",
    "            print('輸入格式錯誤')\n",
    "            continue\n",
    "        except Exception as e:\n",
    "            print(f'輸入錯誤{cm}')\n",
    "            continue\n",
    "\n",
    "    while True:\n",
    "        try:    \n",
    "            kg = int(input(\"請輸入體重(公斤):\"))\n",
    "            if kg > 300:\n",
    "                raise Exception(\"超過300公分\")\n",
    "            break\n",
    "        except ValueError:\n",
    "            print('輸入格式錯誤')\n",
    "            continue\n",
    "        except Exception as e:\n",
    "            print(f'輸入錯誤{kg}')\n",
    "            continue\n",
    "\n",
    "while True:\n",
    "    kg=0  #清除變數\n",
    "    cm=0  #清除變數\n",
    "\n",
    "    print(f'身高={cm},體重={kg}')\n",
    "    cm=(cm/100)*(cm/100)\n",
    "    BMI=kg/cm\n",
    "    print(f'BMI={BMI}')\n",
    "    if BMI >=35:\n",
    "        print(\"重度肥胖：BMI≧35\")\n",
    "    elif BMI >=30:\n",
    "        print(\"中度肥胖：30≦BMI\")\n",
    "    elif BMI >=27:\n",
    "        print(\"輕度肥胖：27≦BMI\")\n",
    "    elif BMI >=24:\n",
    "        print(\"過重\")\n",
    "    elif BMI >=18.5:\n",
    "        print(\"正常範圍\")\n",
    "    else:\n",
    "        print(\"體重過輕\")\n",
    "    \n",
    "    play_again = input(\"還要繼續嗎?(y,n)\")\n",
    "    if play_again == \"n\":\n",
    "        break\n",
    "print('程式結束')"
   ]
  }
 ],
 "metadata": {
  "kernelspec": {
   "display_name": "venv1",
   "language": "python",
   "name": "python3"
  },
  "language_info": {
   "codemirror_mode": {
    "name": "ipython",
    "version": 3
   },
   "file_extension": ".py",
   "mimetype": "text/x-python",
   "name": "python",
   "nbconvert_exporter": "python",
   "pygments_lexer": "ipython3",
   "version": "3.11.9"
  }
 },
 "nbformat": 4,
 "nbformat_minor": 2
}
